{
  "nbformat": 4,
  "nbformat_minor": 0,
  "metadata": {
    "colab": {
      "name": "DCGAN.ipynb",
      "provenance": [],
      "collapsed_sections": [],
      "mount_file_id": "17PITAJGgvqN-rZw6mkktk8YjL58osRS5",
      "authorship_tag": "ABX9TyNTYYE/3amH08ZbP66lhZMR",
      "include_colab_link": true
    },
    "kernelspec": {
      "name": "python3",
      "display_name": "Python 3"
    },
    "language_info": {
      "name": "python"
    }
  },
  "cells": [
    {
      "cell_type": "markdown",
      "metadata": {
        "id": "view-in-github",
        "colab_type": "text"
      },
      "source": [
        "<a href=\"https://colab.research.google.com/github/annasajkh/DC-GAN/blob/main/DCGAN.ipynb\" target=\"_parent\"><img src=\"https://colab.research.google.com/assets/colab-badge.svg\" alt=\"Open In Colab\"/></a>"
      ]
    },
    {
      "cell_type": "code",
      "metadata": {
        "id": "fosVNBWViv8l"
      },
      "source": [
        "import torch\n",
        "from torch import nn\n",
        "from torch.optim import Adam\n",
        "import numpy as np\n",
        "from functools import reduce\n",
        "import matplotlib.pyplot as plt\n",
        "from tqdm import tqdm"
      ],
      "execution_count": null,
      "outputs": []
    },
    {
      "cell_type": "code",
      "metadata": {
        "id": "zdYT6NXJpAZ0"
      },
      "source": [
        "class Generator(nn.Module):\n",
        "  def __init__(self):\n",
        "    super(Generator, self).__init__()\n",
        "\n",
        "    self.network = nn.Sequential(\n",
        "      # Block 1:input is Z, going into a convolution\n",
        "      nn.ConvTranspose2d(100, 64 * 8, 4, 1, 0, bias=False),\n",
        "      nn.BatchNorm2d(64 * 8),\n",
        "      nn.ReLU(True),\n",
        "\n",
        "      # Block 2: input is (64 * 8) x 4 x 4\n",
        "      nn.ConvTranspose2d(64 * 8, 64 * 4, 4, 2, 1, bias=False),\n",
        "      nn.BatchNorm2d(64 * 4),\n",
        "      nn.ReLU(True),\n",
        "\n",
        "      # Block 3: input is (64 * 4) x 8 x 8\n",
        "      nn.ConvTranspose2d(64 * 4, 64 * 2, 4, 2, 1, bias=False),\n",
        "      nn.BatchNorm2d(64 * 2),\n",
        "      nn.ReLU(True),\n",
        "\n",
        "      # Block 4: input is (64 * 2) x 16 x 16\n",
        "      nn.ConvTranspose2d(64 * 2, 64, 4, 2, 1, bias=False),\n",
        "      nn.BatchNorm2d(64),\n",
        "      nn.ReLU(True),\n",
        "\n",
        "      # Block 5: input is (64) x 32 x 32\n",
        "      nn.ConvTranspose2d(64, 3, 4, 2, 1, bias=False),\n",
        "      nn.Tanh()\n",
        "      # Output: output is (3) x 64 x 64\n",
        "\t    )\n",
        "\n",
        "  def forward(self, x):\n",
        "    return self.network(x)"
      ],
      "execution_count": null,
      "outputs": []
    },
    {
      "cell_type": "code",
      "metadata": {
        "id": "FNU7nxGpi31R"
      },
      "source": [
        "class Discriminator(nn.Module):\n",
        "  def __init__(self):\n",
        "    super(Discriminator, self).__init__()\n",
        "\n",
        "    self.network = nn.Sequential(\n",
        "        # Block 1: input is (3) x 64 x 64\n",
        "        nn.Conv2d(3, 64, 4, 2, 1, bias=False),\n",
        "        nn.LeakyReLU(0.2, inplace=True),\n",
        "        \n",
        "        # Block 2: input is (64) x 32 x 32\n",
        "        nn.Conv2d(64, 64 * 2, 4, 2, 1, bias=False),\n",
        "        nn.BatchNorm2d(64 * 2),\n",
        "        nn.LeakyReLU(0.2, inplace=True),\n",
        "\n",
        "        # Block 3: input is (64*2) x 16 x 16\n",
        "        nn.Conv2d(64 * 2, 64 * 4, 4, 2, 1, bias=False),\n",
        "        nn.BatchNorm2d(64 * 4),\n",
        "        nn.LeakyReLU(0.2, inplace=True),\n",
        "\n",
        "        # Block 4: input is (64*4) x 8 x 8\n",
        "        nn.Conv2d(64 * 4, 64 * 8, 4, 2, 1, bias=False),\n",
        "        nn.BatchNorm2d(64 * 8),\n",
        "        nn.LeakyReLU(0.2, inplace=True),\n",
        "        \n",
        "        # Block 5: input is (64*8) x 4 x 4\n",
        "        nn.Conv2d(64 * 8, 1, 4, 1, 0, bias=False),\n",
        "        nn.Sigmoid(),\n",
        "        nn.Flatten()\n",
        "        # Output: 1\n",
        "    )\n",
        "\n",
        "  def forward(self, x):\n",
        "    return self.network(x)\n",
        "\n",
        "def weights_init(m):\n",
        "    classname = m.__class__.__name__\n",
        "    if classname.find('Conv') != -1:\n",
        "        nn.init.normal_(m.weight.data, 0.0, 0.02)\n",
        "    elif classname.find('BatchNorm') != -1:\n",
        "        nn.init.normal_(m.weight.data, 1.0, 0.02)\n",
        "        nn.init.constant_(m.bias.data, 0)"
      ],
      "execution_count": null,
      "outputs": []
    },
    {
      "cell_type": "code",
      "metadata": {
        "id": "FjpoT2qHnw7z"
      },
      "source": [
        "generator = Generator()\n",
        "discriminator = Discriminator()\n",
        "\n",
        "generator.apply(weights_init)\n",
        "discriminator.apply(weights_init)\n",
        "\n",
        "generator_optimizer = Adam(generator.parameters(), lr=0.0002, betas=(0.5, 0.999))\n",
        "discriminator_optimizer = Adam(discriminator.parameters(), lr=0.0002, betas=(0.5, 0.999))\n",
        "\n",
        "loss_function = nn.BCELoss()\n",
        "\n",
        "\n",
        "if torch.cuda.is_available():\n",
        "    generator = generator.cuda()\n",
        "    discriminator = discriminator.cuda()\n",
        "\n",
        "    loss_function = loss_function.cuda()"
      ],
      "execution_count": null,
      "outputs": []
    },
    {
      "cell_type": "code",
      "metadata": {
        "colab": {
          "base_uri": "https://localhost:8080/"
        },
        "id": "mk6SH2qIkYkH",
        "outputId": "a63a019e-f8af-4b3d-8a5d-05287ba379a3"
      },
      "source": [
        "import glob\n",
        "from PIL import Image\n",
        "import matplotlib.pyplot as plt\n",
        "\n",
        "real_data = []\n",
        "\n",
        "for path in tqdm(glob.glob(\"drive/MyDrive/dataset/niko/*\")):\n",
        "  img = Image.open(path).resize((64, 64))\n",
        "  img = (np.array(img) / 255) * 2 - 1\n",
        "  img = img.reshape(3, 64, 64)\n",
        "  real_data.append(img)\n",
        "\n",
        "real_data = torch.from_numpy(np.array(real_data))\n",
        "\n",
        "if torch.cuda.is_available():\n",
        "  real_data = real_data.cuda()\n",
        "\n",
        "print(real_data.shape)"
      ],
      "execution_count": null,
      "outputs": [
        {
          "output_type": "stream",
          "name": "stderr",
          "text": [
            "100%|██████████| 1194/1194 [04:09<00:00,  4.79it/s]"
          ]
        },
        {
          "output_type": "stream",
          "name": "stdout",
          "text": [
            "torch.Size([1194, 3, 64, 64])\n"
          ]
        },
        {
          "output_type": "stream",
          "name": "stderr",
          "text": [
            "\n"
          ]
        }
      ]
    },
    {
      "cell_type": "code",
      "metadata": {
        "colab": {
          "base_uri": "https://localhost:8080/"
        },
        "id": "yQcZFcKEoBej",
        "outputId": "bd56a86b-69df-4d33-9457-2e877873bedd"
      },
      "source": [
        "real_data = real_data[:1120]\n",
        "real_data.shape"
      ],
      "execution_count": null,
      "outputs": [
        {
          "output_type": "execute_result",
          "data": {
            "text/plain": [
              "torch.Size([1120, 3, 64, 64])"
            ]
          },
          "metadata": {},
          "execution_count": 16
        }
      ]
    },
    {
      "cell_type": "code",
      "metadata": {
        "id": "pj_tR3o2ty9u"
      },
      "source": [
        "real_data = real_data.float()"
      ],
      "execution_count": null,
      "outputs": []
    },
    {
      "cell_type": "code",
      "metadata": {
        "id": "XnTCLcehqbyp"
      },
      "source": [
        "def efficient_zero_grad(model):\n",
        "  \"\"\" \n",
        "    Apply zero_grad more efficiently\n",
        "    Source: https://betterprogramming.pub/how-to-make-your-pytorch-code-run-faster-93079f3c1f7b\n",
        "  \"\"\"\n",
        "  for param in model.parameters():\n",
        "    param.grad = None"
      ],
      "execution_count": null,
      "outputs": []
    },
    {
      "cell_type": "code",
      "metadata": {
        "id": "vy8N7d_cBsQ6"
      },
      "source": [
        "batch_size = 16\n",
        "\n",
        "epoch = 200\n",
        "\n",
        "for e in range(epoch):\n",
        "  print(f\"Epoch: {e}\")\n",
        "\n",
        "  generator.train()\n",
        "  for i in tqdm(range(1, int(len(real_data) / batch_size))):\n",
        "    #discriminator training\n",
        "    real = real_data[(i-1)*batch_size:i*batch_size]\n",
        "\n",
        "    efficient_zero_grad(discriminator)\n",
        "\n",
        "    real_prediction = discriminator(real)\n",
        "\n",
        "    real_loss = loss_function(real_prediction, torch.ones(*real_prediction.shape))\n",
        "    real_loss.backward()\n",
        "    discriminator_optimizer.step()\n",
        "\n",
        "    noise = torch.randn(batch_size, 100, 1, 1).float()\n",
        "\n",
        "    if torch.cuda.is_available():\n",
        "      noise = noise.cuda()\n",
        "    \n",
        "    efficient_zero_grad(discriminator)\n",
        "    \n",
        "    fake = generator(noise).detach()\n",
        "    fake_prediction = discriminator(fake)\n",
        "\n",
        "    fake_loss = loss_function(fake_prediction, torch.zeros(*fake_prediction.shape))\n",
        "    fake_loss.backward()\n",
        "    discriminator_optimizer.step()\n",
        "\n",
        "    #generator training\n",
        "    efficient_zero_grad(generator)\n",
        "    discriminator_fake_out = discriminator(fake)\n",
        "    generator_error = loss_function(discriminator_fake_out, torch.ones(*discriminator_fake_out.shape))\n",
        "    generator_error.backward()\n",
        "    generator_optimizer.step()\n",
        "  \n",
        "  if e % 10 == 0:\n",
        "    generator.eval()\n",
        "    \n",
        "    if torch.cuda.is_available():\n",
        "      noise = noise.cuda()\n",
        "\n",
        "    gen_img = generator.forward(noise).double()\n",
        "    gen_img = (((gen_img + 1) / 2).detach().numpy().reshape(64, 64, 3) * 255).astype(np.uint8)\n",
        "    Image.fromarray(gen_img).resize((200,200)).save(f\"{e}.png\")\n",
        "\n",
        "\n"
      ],
      "execution_count": null,
      "outputs": []
    }
  ]
}